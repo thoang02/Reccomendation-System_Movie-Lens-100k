{
 "cells": [
  {
   "cell_type": "code",
   "execution_count": 12,
   "metadata": {},
   "outputs": [],
   "source": [
    "import numpy as np\n",
    "import pandas as pd\n",
    "from sklearn.metrics.pairwise import cosine_similarity\n",
    "from scipy import sparse"
   ]
  },
  {
   "cell_type": "code",
   "execution_count": 15,
   "metadata": {},
   "outputs": [],
   "source": [
    "class NBCF:\n",
    "    \n",
    "    def __init__(self, Y_data, k, dist_func=cosine_similarity, uuCF=1): # uuCF=1: user-user oriented, uuCF=0: item-item oriented rec system\n",
    "        '''\n",
    "        Generate utility matrix Y\n",
    "        '''\n",
    "        self.uuCF = uuCF\n",
    "        # exchange position of the first 2 columns in item-item rec system, representing matrix transpose\n",
    "        self.Y_data = Y_data if uuCF else Y_data[:, [1, 0, 2]] \n",
    "        self.k = k\n",
    "        self.dist_func = dist_func\n",
    "        self.Ybar_data = None\n",
    "        \n",
    "        self.n_users = int(np.max(self.Y_data[:, 0])) + 1\n",
    "        self.n_items = int(np.max(self.Y_data[:, 1])) + 1\n",
    "        \n",
    "    def add(self, new_data):\n",
    "        '''\n",
    "        Update Utility matrix by adding new rows to the bottom of Utility Matrix\n",
    "        For simplicity, suppose there's no new users or items, nor changes in ratings\n",
    "        '''\n",
    "        self.Y_data = np.concatenate((self.Y_data, new_data), axis = 0)\n",
    "    \n",
    "    def normalize_Y(self):\n",
    "        '''\n",
    "        Normalize utility matrix Yhat\n",
    "        '''\n",
    "        users = self.Y_data[:, 0] # first column of the Y_data- all users\n",
    "        self.Ybar_data = self.Y_data.copy()\n",
    "        self.mu = np.zeros((self.n_users,)) #a vector with size=number of users tp store mean user ratings\n",
    "        \n",
    "        for n in range(self.n_users):\n",
    "            # row indices of ratings by user n\n",
    "            # indices need to be converted to intergers \n",
    "            ids = np.where(users == n)[0].astype(np.int32)\n",
    "            # indices of all  ratings by user n\n",
    "            item_ids = self.Y_data[ids, 1]\n",
    "            # the corresponding rating values\n",
    "            ratings = self.Y_data[ids, 2]\n",
    "            # caculate mean of those ratings\n",
    "            m = np.mean(ratings)\n",
    "            # avoid empty array and nan value\n",
    "            if np.isnan(m):\n",
    "                m = 0\n",
    "            # update vector mu\n",
    "            self.mu[n] = m\n",
    "            #normalize\n",
    "            self.Ybar_data[ids, 2] = ratings - self.mu[n] #only save the ratings that user n did\n",
    "        \n",
    "        # Rating matris is a sparse matrix. \n",
    "        # ex: n_users=1M, n_items=100k -> rating matrix has shape (100k, 1M), \n",
    "        # many of its value maybe 0 and we may not have enough memory to store this matrix\n",
    "        # For memory and computing efficiency, only store non-zeros values and their locations\n",
    "        # using sparse coo matrix (row location, col location, value)\n",
    "        self.Ybar = sparse.coo_matrix((self.Ybar_data[:, 2],\n",
    "                                      (self.Ybar_data[:,1], \n",
    "                                       self.Ybar_data[:, 0])), \n",
    "                                      (self.n_items, self.n_users))\n",
    "        # convert this into Compressed sparse row fomat\n",
    "        self.Ybar = self.Ybar.tocsr()\n",
    "    \n",
    "    def similarity(self):\n",
    "        '''\n",
    "        User similarity matrix S\n",
    "        '''\n",
    "        self.S = self.dist_func(self.Ybar.T, self.Ybar.T)\n",
    "        \n",
    "    def fit(self):\n",
    "        '''\n",
    "        Normalize data and calculate similarity matrix again after adding ratings\n",
    "        '''\n",
    "        self.normalize_Y()\n",
    "        self.similarity()\n",
    "        \n",
    "    def __pred(self, u, i, normalized=1):\n",
    "        '''\n",
    "        Predict the rating of user u for item i (normalized)  \n",
    "        '''\n",
    "        # find indices of all users that rated item i\n",
    "        ids = np.where(self.Y_data[:, 1] == i)[0].astype(np.int32)\n",
    "        # find users of those indices\n",
    "        users_rated_i = (self.Y_data[ids, 0]).astype(np.int32)\n",
    "        # find similarity between the user u with other users who also rated item i\n",
    "        sim = self.S[u, users_rated_i]\n",
    "        # find the k most similar users\n",
    "        a = np.argsort(sim)[-self.k:]  #index of k most similar users\n",
    "        # the corresponding similarity levels\n",
    "        nearest_s = sim[a]\n",
    "        # the rating for item i rated by k most similar users\n",
    "        r = self.Ybar[i, users_rated_i[a]]\n",
    "        #apply the formula\n",
    "        if normalized:\n",
    "             # add a small number, for instance, 1e-8, to avoid dividing by 0\n",
    "            return (r*nearest_s)[0]/(np.abs(nearest_s).sum() + 1e-8)\n",
    "        \n",
    "        return (r*nearest_s)[0]/(np.abs(nearest_s).sum() + 1e-8) + self.mu[u]\n",
    "    \n",
    "    def pred(self, u, i, normalized=1):\n",
    "        if self.uuCF:\n",
    "            return self.__pred(u, i, normalized)\n",
    "        return self.__pred(i, u, normalized) #if item-item, transpose matrix\n",
    "    \n",
    "    def recommend(self, u, normalized=1):\n",
    "        \"\"\"\n",
    "        Determine all items should be recommended for user u. (uuCF =1)\n",
    "        or all users who might have interest on item u (uuCF = 0)\n",
    "        The decision is made based on all i such that:\n",
    "        self.pred(u, i) > 0. Suppose we are considering items which \n",
    "        have not been rated by u yet. \n",
    "        \"\"\"\n",
    "        ids = np.where(self.Y_data[:,0] == u)[0]\n",
    "        items_rated_by_u = self.Y_data[ids, 1].tolist()\n",
    "        recommended_items = []\n",
    "        for i in range(self.n_items):\n",
    "            if i not in items_rated_by_u:\n",
    "                rating = self.__pred(u, i)\n",
    "                if rating > 0:\n",
    "                    recommended_items.append(i)\n",
    "                    \n",
    "        return recommended_items\n",
    "    \n",
    "    def print_recommendation(self):\n",
    "        '''\n",
    "        Print items recommended for each users\n",
    "        '''\n",
    "        print('Recommendation: ')\n",
    "        for u in range(self.n_users):\n",
    "            recommended_items = self.recommend(u)\n",
    "            if self.uuCF:\n",
    "                print('Recommend item(s):', recommended_items, 'to user', u)\n",
    "            else: \n",
    "                print ('Recommend item', u, 'to user(s) : ', recommended_items)   "
   ]
  },
  {
   "cell_type": "code",
   "execution_count": 16,
   "metadata": {},
   "outputs": [
    {
     "name": "stdout",
     "output_type": "stream",
     "text": [
      "Recommendation: \n",
      "Recommend item(s): [2] to user 0\n",
      "Recommend item(s): [1] to user 1\n",
      "Recommend item(s): [] to user 2\n",
      "Recommend item(s): [4] to user 3\n",
      "Recommend item(s): [4] to user 4\n",
      "Recommend item(s): [0, 3, 4] to user 5\n",
      "Recommend item(s): [1] to user 6\n"
     ]
    }
   ],
   "source": [
    "#test\n",
    "\n",
    "r_cols =['user_id', 'item_id', 'rating']\n",
    "ratings = pd.read_csv('./DATA/ex.dat.txt', sep = ' ',names = r_cols, encoding = 'latin-1')\n",
    "Y_data = ratings.values\n",
    "\n",
    "rs = NBCF(Y_data, k = 2, uuCF = 1)\n",
    "rs.fit()\n",
    "\n",
    "rs.print_recommendation()"
   ]
  },
  {
   "cell_type": "code",
   "execution_count": 17,
   "metadata": {},
   "outputs": [
    {
     "name": "stdout",
     "output_type": "stream",
     "text": [
      "Recommendation: \n",
      "Recommend item 0 to user(s) :  []\n",
      "Recommend item 1 to user(s) :  [1]\n",
      "Recommend item 2 to user(s) :  [0]\n",
      "Recommend item 3 to user(s) :  [5]\n",
      "Recommend item 4 to user(s) :  [3, 4, 5]\n"
     ]
    }
   ],
   "source": [
    "rs = NBCF(Y_data, k = 2, uuCF = 0)\n",
    "rs.fit()\n",
    "\n",
    "rs.print_recommendation()"
   ]
  },
  {
   "cell_type": "markdown",
   "metadata": {},
   "source": [
    "APPLY TO MovieLens100k DATASET"
   ]
  },
  {
   "cell_type": "code",
   "execution_count": 20,
   "metadata": {},
   "outputs": [],
   "source": [
    "r_cols = ['user_id', 'movie_id', 'rating', 'unix_timestamp']\n",
    "\n",
    "ratings_base = pd.read_csv('./DATA/ml-100k/ub.base', sep='\\t', names=r_cols, encoding='latin-1')\n",
    "ratings_test = pd.read_csv('./DATA/ml-100k/ub.test', sep='\\t', names=r_cols, encoding='latin-1')\n",
    "\n",
    "rate_train = ratings_base.values\n",
    "rate_test = ratings_test.values\n",
    "\n",
    "# indices start from 0\n",
    "rate_train[:, :2] -= 1\n",
    "rate_test[:, :2] -= 1"
   ]
  },
  {
   "cell_type": "code",
   "execution_count": 24,
   "metadata": {},
   "outputs": [
    {
     "name": "stdout",
     "output_type": "stream",
     "text": [
      "User-user CF, RMSE = 0.9951981100882598\n"
     ]
    }
   ],
   "source": [
    "# result with User-user NDCF:\n",
    "\n",
    "rs = NBCF(rate_train, k = 30, uuCF = 1)\n",
    "rs.fit()\n",
    "\n",
    "n_tests = rate_test.shape[0]\n",
    "SE = 0 # squared error\n",
    "for n in range(n_tests):\n",
    "    pred = rs.pred(rate_test[n, 0], rate_test[n, 1], normalized = 0)\n",
    "    SE += (pred - rate_test[n, 2])**2 \n",
    "\n",
    "RMSE = np.sqrt(SE/n_tests)\n",
    "print ('User-user CF, RMSE =', RMSE)\n"
   ]
  },
  {
   "cell_type": "code",
   "execution_count": 25,
   "metadata": {},
   "outputs": [
    {
     "name": "stderr",
     "output_type": "stream",
     "text": [
      "/Users/michellehoang/opt/anaconda3/lib/python3.8/site-packages/numpy/core/fromnumeric.py:3474: RuntimeWarning: Mean of empty slice.\n",
      "  return _methods._mean(a, axis=axis, dtype=dtype,\n",
      "/Users/michellehoang/opt/anaconda3/lib/python3.8/site-packages/numpy/core/_methods.py:189: RuntimeWarning: invalid value encountered in double_scalars\n",
      "  ret = ret.dtype.type(ret / rcount)\n"
     ]
    },
    {
     "name": "stdout",
     "output_type": "stream",
     "text": [
      "Item-item CF, RMSE = 0.9867912132705384\n"
     ]
    }
   ],
   "source": [
    "rs = NBCF(rate_train, k = 30, uuCF = 0)\n",
    "rs.fit()\n",
    "\n",
    "n_tests = rate_test.shape[0]\n",
    "SE = 0 # squared error\n",
    "for n in range(n_tests):\n",
    "    pred = rs.pred(rate_test[n, 0], rate_test[n, 1], normalized = 0)\n",
    "    SE += (pred - rate_test[n, 2])**2 \n",
    "\n",
    "RMSE = np.sqrt(SE/n_tests)\n",
    "print ('Item-item CF, RMSE =', RMSE)"
   ]
  },
  {
   "cell_type": "code",
   "execution_count": null,
   "metadata": {},
   "outputs": [],
   "source": []
  }
 ],
 "metadata": {
  "kernelspec": {
   "display_name": "Python 3",
   "language": "python",
   "name": "python3"
  },
  "language_info": {
   "codemirror_mode": {
    "name": "ipython",
    "version": 3
   },
   "file_extension": ".py",
   "mimetype": "text/x-python",
   "name": "python",
   "nbconvert_exporter": "python",
   "pygments_lexer": "ipython3",
   "version": "3.8.5"
  }
 },
 "nbformat": 4,
 "nbformat_minor": 4
}
